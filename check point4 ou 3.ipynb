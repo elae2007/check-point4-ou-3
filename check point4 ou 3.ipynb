{
 "cells": [
  {
   "cell_type": "code",
   "execution_count": 17,
   "id": "c6ec7ad4",
   "metadata": {},
   "outputs": [
    {
     "name": "stdout",
     "output_type": "stream",
     "text": [
      "input a number:10\n",
      "input a number:6\n",
      "input a number:7\n",
      "10\n",
      "10\n",
      "10\n"
     ]
    }
   ],
   "source": [
    "#ex1:\n",
    "a=int(input(\"input a number:\"))\n",
    "b=int(input(\"input a number:\"))\n",
    "c=int(input(\"input a number:\"))\n",
    "my_func=(a,b,c)\n",
    "for i in my_func:\n",
    "    if a>b and a>c:\n",
    "        print(a)\n",
    "    elif b>c and b>a:\n",
    "        print(b)\n",
    "    elif c>b and c>a:\n",
    "        print(c)  "
   ]
  },
  {
   "cell_type": "code",
   "execution_count": 19,
   "id": "983a33a6",
   "metadata": {},
   "outputs": [
    {
     "name": "stdout",
     "output_type": "stream",
     "text": [
      "input a number:10\n",
      "input a number:4\n",
      "input a number:-3\n",
      "10\n"
     ]
    }
   ],
   "source": [
    "#ex1(autre facon)\n",
    "a=int(input(\"input a number:\"))\n",
    "b=int(input(\"input a number:\"))\n",
    "c=int(input(\"input a number:\"))\n",
    "my_func=(a,b,c)\n",
    "x=max(my_func)#new function(The max() function returns the item with the highest value)\n",
    "print(x)"
   ]
  },
  {
   "cell_type": "code",
   "execution_count": 20,
   "id": "92f9db79",
   "metadata": {},
   "outputs": [
    {
     "data": {
      "text/plain": [
       "10"
      ]
     },
     "execution_count": 20,
     "metadata": {},
     "output_type": "execute_result"
    }
   ],
   "source": [
    "#ex1(autre facon)\n",
    "a=(1,2,10)\n",
    "x=max(a)\n",
    "x"
   ]
  },
  {
   "cell_type": "code",
   "execution_count": 33,
   "id": "bf5faa93",
   "metadata": {},
   "outputs": [
    {
     "name": "stdout",
     "output_type": "stream",
     "text": [
      "input a number:10\n",
      "input a number:11\n",
      "(21, -1)\n"
     ]
    }
   ],
   "source": [
    "#ex2\n",
    "x=int(input(\"input a number:\"))\n",
    "y=int(input(\"input a number:\"))\n",
    "def calculation(x,y):\n",
    "    return x+y,x-y\n",
    "print(calculation(x,y))"
   ]
  },
  {
   "cell_type": "code",
   "execution_count": null,
   "id": "49f063ab",
   "metadata": {},
   "outputs": [],
   "source": [
    "#ex3\n",
    "no undersatand\n",
    "difficult\n",
    "\n"
   ]
  },
  {
   "cell_type": "code",
   "execution_count": 159,
   "id": "881ba8d0",
   "metadata": {},
   "outputs": [
    {
     "name": "stdout",
     "output_type": "stream",
     "text": [
      "green,white,blue,yellow\n",
      "['blue', 'green', 'white', 'yellow']\n"
     ]
    }
   ],
   "source": [
    "# ex4\n",
    "l=[i for  i in input().split(\",\")]\n",
    "l.sort()\n",
    "print(l)\n",
    "\n"
   ]
  },
  {
   "cell_type": "code",
   "execution_count": 121,
   "id": "8e70f941",
   "metadata": {},
   "outputs": [
    {
     "name": "stdout",
     "output_type": "stream",
     "text": [
      "100,150,180\n",
      "18,22,24\n"
     ]
    }
   ],
   "source": [
    "#ex5(bonus)\n",
    "import math\n",
    "c=50\n",
    "h=30\n",
    "value = []\n",
    "items=[x for x in input().split(',')]\n",
    "for d in items:\n",
    "    value.append(str(int(round(math.sqrt(2*c*float(d)/h)))))\n",
    "\n",
    "print(','.join(value))"
   ]
  },
  {
   "cell_type": "code",
   "execution_count": null,
   "id": "26b973ce",
   "metadata": {},
   "outputs": [],
   "source": [
    "\n"
   ]
  }
 ],
 "metadata": {
  "kernelspec": {
   "display_name": "Python 3",
   "language": "python",
   "name": "python3"
  },
  "language_info": {
   "codemirror_mode": {
    "name": "ipython",
    "version": 3
   },
   "file_extension": ".py",
   "mimetype": "text/x-python",
   "name": "python",
   "nbconvert_exporter": "python",
   "pygments_lexer": "ipython3",
   "version": "3.8.8"
  }
 },
 "nbformat": 4,
 "nbformat_minor": 5
}
